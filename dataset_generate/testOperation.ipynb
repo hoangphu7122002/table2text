{
 "cells": [
  {
   "cell_type": "code",
   "execution_count": 1,
   "metadata": {},
   "outputs": [
    {
     "name": "stdout",
     "output_type": "stream",
     "text": [
      "dict_keys(['01/2020', '02/2020', '03/2020', '04/2020', '05/2020', '06/2020', '07/2020', '08/2020', '09/2020', '10/2020', '11/2020', '12/2020', '01/2021', '02/2021', '03/2021', '04/2021', '05/2021', '06/2021', '07/2021', '08/2021', '09/2021', '10/2021', '11/2021', '12/2021', '01/2022', '02/2022', '03/2022', '04/2022', '05/2022', '06/2022', '07/2022', '08/2022', '09/2022', '10/2022', '11/2022', '12/2022', '01/2023', '02/2023', '03/2023', '04/2023', '05/2023', '06/2023'])\n"
     ]
    }
   ],
   "source": [
    "import pickle\n",
    "\n",
    "with open('saved_dictionary.pkl', 'rb') as f:\n",
    "    loaded_dict = pickle.load(f)\n",
    "\n",
    "print(loaded_dict.keys())"
   ]
  },
  {
   "cell_type": "code",
   "execution_count": 3,
   "metadata": {},
   "outputs": [
    {
     "data": {
      "text/plain": [
       "{'Tổng đài 18008000': {'View': 'Tháng',\n",
       "  'Time': '01/2020',\n",
       "  'CHỈ TIÊU': 'Tổng đài 18008000',\n",
       "  'ĐƠN VỊ': '%',\n",
       "  'ĐIỀU KIỆN': '>=',\n",
       "  'KPI mục tiêu tháng': 93.4,\n",
       "  'Tháng 1.2020': 82.4,\n",
       "  'Đánh giá': 'Không đạt',\n",
       "  'T12.2019': 97.2,\n",
       "  'So sánh T12.2019 Tăng giảm': -14.8,\n",
       "  'T1.2019': 81.8,\n",
       "  'So sánh T1.2019 Tăng giảm': 0.6,\n",
       "  'TỔNG CÔNG TY': 'VTS',\n",
       "  'KPI MẸ': 'Tỷ lệ kết nối thành công đến tổng đài'},\n",
       " 'Tổng đài 19009095': {'View': 'Tháng',\n",
       "  'Time': '01/2020',\n",
       "  'CHỈ TIÊU': 'Tổng đài 19009095',\n",
       "  'ĐƠN VỊ': '%',\n",
       "  'ĐIỀU KIỆN': '>=',\n",
       "  'KPI mục tiêu tháng': 99.6,\n",
       "  'Tháng 1.2020': 98.6,\n",
       "  'Đánh giá': 'Không đạt',\n",
       "  'T12.2019': 88.4,\n",
       "  'So sánh T12.2019 Tăng giảm': 10.2,\n",
       "  'T1.2019': 96.0,\n",
       "  'So sánh T1.2019 Tăng giảm': 2.6,\n",
       "  'TỔNG CÔNG TY': 'VTS',\n",
       "  'KPI MẸ': 'Tỷ lệ kết nối thành công đến tổng đài'},\n",
       " 'PAKH/1000 thuê bao/ngày dịch vụ Kênh truyền': {'View': 'Tháng',\n",
       "  'Time': '01/2020',\n",
       "  'CHỈ TIÊU': 'PAKH/1000 thuê bao/ngày dịch vụ Kênh truyền',\n",
       "  'ĐƠN VỊ': 'Phản ánh',\n",
       "  'ĐIỀU KIỆN': '<=',\n",
       "  'KPI mục tiêu tháng': 11.3,\n",
       "  'Tháng 1.2020': 10.5,\n",
       "  'Đánh giá': 'Đạt',\n",
       "  'T12.2019': 11.3,\n",
       "  'So sánh T12.2019 Tăng giảm': -0.8,\n",
       "  'T1.2019': 5.8,\n",
       "  'So sánh T1.2019 Tăng giảm': 4.7,\n",
       "  'TỔNG CÔNG TY': 'VTS',\n",
       "  'KPI MẸ': 'Tỷ lệ phản ánh khiếu nại của Khách hàng'},\n",
       " 'PAKH/10.000 thuê bao/ngày dịch vụ GP CNTT': {'View': 'Tháng',\n",
       "  'Time': '01/2020',\n",
       "  'CHỈ TIÊU': 'PAKH/10.000 thuê bao/ngày dịch vụ GP CNTT',\n",
       "  'ĐƠN VỊ': 'Phản ánh',\n",
       "  'ĐIỀU KIỆN': '<=',\n",
       "  'KPI mục tiêu tháng': 11.5,\n",
       "  'Tháng 1.2020': 12.2,\n",
       "  'Đánh giá': 'Không đạt',\n",
       "  'T12.2019': 11.8,\n",
       "  'So sánh T12.2019 Tăng giảm': 0.4,\n",
       "  'T1.2019': 6.0,\n",
       "  'So sánh T1.2019 Tăng giảm': 6.2,\n",
       "  'TỔNG CÔNG TY': 'VTS',\n",
       "  'KPI MẸ': 'Tỷ lệ phản ánh khiếu nại của Khách hàng'},\n",
       " 'Thời gian trung bình xử lý sự cố dịch vụ kênh truyền': {'View': 'Tháng',\n",
       "  'Time': '01/2020',\n",
       "  'CHỈ TIÊU': 'Thời gian trung bình xử lý sự cố dịch vụ kênh truyền',\n",
       "  'ĐƠN VỊ': 'Giờ',\n",
       "  'ĐIỀU KIỆN': '<=',\n",
       "  'KPI mục tiêu tháng': 12.1,\n",
       "  'Tháng 1.2020': 25.9,\n",
       "  'Đánh giá': 'Không đạt',\n",
       "  'T12.2019': 10.5,\n",
       "  'So sánh T12.2019 Tăng giảm': 15.4,\n",
       "  'T1.2019': 23.3,\n",
       "  'So sánh T1.2019 Tăng giảm': 2.6,\n",
       "  'TỔNG CÔNG TY': 'VTS',\n",
       "  'KPI MẸ': 'Thời gian trung bình để xử lý một PAKH'},\n",
       " 'Thời gian trung bình xử lý phản ánh dịch vụ Giải pháp CNTT': {'View': 'Tháng',\n",
       "  'Time': '01/2020',\n",
       "  'CHỈ TIÊU': 'Thời gian trung bình xử lý phản ánh dịch vụ Giải pháp CNTT',\n",
       "  'ĐƠN VỊ': 'Giờ',\n",
       "  'ĐIỀU KIỆN': '<=',\n",
       "  'KPI mục tiêu tháng': 4.1,\n",
       "  'Tháng 1.2020': 9.4,\n",
       "  'Đánh giá': 'Không đạt',\n",
       "  'T12.2019': 11.7,\n",
       "  'So sánh T12.2019 Tăng giảm': -2.3,\n",
       "  'T1.2019': 14.1,\n",
       "  'So sánh T1.2019 Tăng giảm': -4.7,\n",
       "  'TỔNG CÔNG TY': 'VTS',\n",
       "  'KPI MẸ': 'Thời gian trung bình để xử lý một PAKH'},\n",
       " 'Xử lý PAKH dịch vụ Kênh truyền - Xử lý sự cố trong hạn 3 giờ': {'View': 'Tháng',\n",
       "  'Time': '01/2020',\n",
       "  'CHỈ TIÊU': 'Xử lý PAKH dịch vụ Kênh truyền - Xử lý sự cố trong hạn 3 giờ',\n",
       "  'ĐƠN VỊ': '%',\n",
       "  'ĐIỀU KIỆN': '>=',\n",
       "  'KPI mục tiêu tháng': 85.9,\n",
       "  'Tháng 1.2020': 82.5,\n",
       "  'Đánh giá': 'Không đạt',\n",
       "  'T12.2019': 92.9,\n",
       "  'So sánh T12.2019 Tăng giảm': -10.4,\n",
       "  'T1.2019': 93.8,\n",
       "  'So sánh T1.2019 Tăng giảm': -11.3,\n",
       "  'TỔNG CÔNG TY': 'VTS',\n",
       "  'KPI MẸ': 'Tiến độ xử lý PAKH (theo từng dịch vụ trọng điểm)'},\n",
       " 'Xử lý PAKH dịch vụ Kênh truyền - Xử lý PAKH trong hạn 24 giờ': {'View': 'Tháng',\n",
       "  'Time': '01/2020',\n",
       "  'CHỈ TIÊU': 'Xử lý PAKH dịch vụ Kênh truyền - Xử lý PAKH trong hạn 24 giờ',\n",
       "  'ĐƠN VỊ': '%',\n",
       "  'ĐIỀU KIỆN': '>=',\n",
       "  'KPI mục tiêu tháng': 92.8,\n",
       "  'Tháng 1.2020': 85.1,\n",
       "  'Đánh giá': 'Không đạt',\n",
       "  'T12.2019': 83.9,\n",
       "  'So sánh T12.2019 Tăng giảm': 1.2,\n",
       "  'T1.2019': 80.9,\n",
       "  'So sánh T1.2019 Tăng giảm': 4.2,\n",
       "  'TỔNG CÔNG TY': 'VTS',\n",
       "  'KPI MẸ': 'Tiến độ xử lý PAKH (theo từng dịch vụ trọng điểm)'},\n",
       " 'Xử lý PAKH dịch vụ Kênh truyền - Xử lý PAKH trong hạn 48 giờ': {'View': 'Tháng',\n",
       "  'Time': '01/2020',\n",
       "  'CHỈ TIÊU': 'Xử lý PAKH dịch vụ Kênh truyền - Xử lý PAKH trong hạn 48 giờ',\n",
       "  'ĐƠN VỊ': '%',\n",
       "  'ĐIỀU KIỆN': '>=',\n",
       "  'KPI mục tiêu tháng': 91.2,\n",
       "  'Tháng 1.2020': 99.6,\n",
       "  'Đánh giá': 'Đạt',\n",
       "  'T12.2019': 96.9,\n",
       "  'So sánh T12.2019 Tăng giảm': 2.7,\n",
       "  'T1.2019': 94.2,\n",
       "  'So sánh T1.2019 Tăng giảm': 5.4,\n",
       "  'TỔNG CÔNG TY': 'VTS',\n",
       "  'KPI MẸ': 'Tiến độ xử lý PAKH (theo từng dịch vụ trọng điểm)'},\n",
       " 'Xử lý PAKH dịch vụ ứng dụng CNTT': {'View': 'Tháng',\n",
       "  'Time': '01/2020',\n",
       "  'CHỈ TIÊU': 'Xử lý PAKH dịch vụ ứng dụng CNTT',\n",
       "  'ĐƠN VỊ': '%',\n",
       "  'ĐIỀU KIỆN': '>=',\n",
       "  'KPI mục tiêu tháng': 98.5,\n",
       "  'Tháng 1.2020': 94.8,\n",
       "  'Đánh giá': 'Không đạt',\n",
       "  'T12.2019': 87.7,\n",
       "  'So sánh T12.2019 Tăng giảm': 7.1,\n",
       "  'T1.2019': 87.2,\n",
       "  'So sánh T1.2019 Tăng giảm': 7.6,\n",
       "  'TỔNG CÔNG TY': 'VTS',\n",
       "  'KPI MẸ': 'Tiến độ xử lý PAKH (theo từng dịch vụ trọng điểm)'},\n",
       " 'Mức độ hài lòng dịch vụ Kênh truyền (CSAT)': {'View': 'Tháng',\n",
       "  'Time': '01/2020',\n",
       "  'CHỈ TIÊU': 'Mức độ hài lòng dịch vụ Kênh truyền (CSAT)',\n",
       "  'ĐƠN VỊ': '%',\n",
       "  'ĐIỀU KIỆN': '>=',\n",
       "  'KPI mục tiêu tháng': 82.9,\n",
       "  'Tháng 1.2020': 80.7,\n",
       "  'Đánh giá': 'Không đạt',\n",
       "  'T12.2019': 86.9,\n",
       "  'So sánh T12.2019 Tăng giảm': -6.2,\n",
       "  'T1.2019': 85.8,\n",
       "  'So sánh T1.2019 Tăng giảm': -5.1,\n",
       "  'TỔNG CÔNG TY': 'VTS',\n",
       "  'KPI MẸ': 'Mức độ hài lòng (theo từng dịch vụ trọng điểm)'},\n",
       " 'Mức độ hài lòng dịch vụ chuyển đổi số cho KH doanh nghiệp lớn và chính phủ (CSAT)': {'View': 'Tháng',\n",
       "  'Time': '01/2020',\n",
       "  'CHỈ TIÊU': 'Mức độ hài lòng dịch vụ chuyển đổi số cho KH doanh nghiệp lớn và chính phủ (CSAT)',\n",
       "  'ĐƠN VỊ': '%',\n",
       "  'ĐIỀU KIỆN': '>=',\n",
       "  'KPI mục tiêu tháng': 93.5,\n",
       "  'Tháng 1.2020': 86.4,\n",
       "  'Đánh giá': 'Không đạt',\n",
       "  'T12.2019': 94.1,\n",
       "  'So sánh T12.2019 Tăng giảm': -7.7,\n",
       "  'T1.2019': 88.8,\n",
       "  'So sánh T1.2019 Tăng giảm': -2.4,\n",
       "  'TỔNG CÔNG TY': 'VTS',\n",
       "  'KPI MẸ': 'Mức độ hài lòng (theo từng dịch vụ trọng điểm)'}}"
      ]
     },
     "execution_count": 3,
     "metadata": {},
     "output_type": "execute_result"
    }
   ],
   "source": [
    "loaded_dict['01/2020']['month']['VTS']"
   ]
  },
  {
   "cell_type": "code",
   "execution_count": 12,
   "metadata": {},
   "outputs": [],
   "source": [
    "def loadParentSet(loaded_dict,company='VTS'):\n",
    "    groupKPISet = set()\n",
    "    for oneKPI in loaded_dict['01/2020']['month'][company]:\n",
    "        comp = loaded_dict['01/2020']['month'][company][oneKPI]['KPI MẸ']\n",
    "        groupKPISet.add(comp)\n",
    "    return groupKPISet"
   ]
  },
  {
   "cell_type": "code",
   "execution_count": 13,
   "metadata": {},
   "outputs": [
    {
     "data": {
      "text/plain": [
       "{'Tỷ lệ gỡ bài thành công dịch vụ chuyển phát',\n",
       " 'Tỷ lệ hài lòng của KH dịch vụ chuyển phát',\n",
       " 'Tỷ lệ kết nối thành công đến tổng đài dịch vụ bưu chính',\n",
       " 'Tỷ lệ phản ánh khiếu nại  KH dịch vụ chuyển phát',\n",
       " 'Tỷ lệ xử lý phản ánh của KH'}"
      ]
     },
     "execution_count": 13,
     "metadata": {},
     "output_type": "execute_result"
    }
   ],
   "source": [
    "loadParentSet(loaded_dict,'VTPOST')"
   ]
  },
  {
   "cell_type": "code",
   "execution_count": 8,
   "metadata": {},
   "outputs": [],
   "source": [
    "def listingGroupKPI(loaded_dict,company='VTPOST',kpi_mom='Tỷ lệ xử lý phản ánh của KH'):\n",
    "    listOneKPI = []\n",
    "    for oneKPI in loaded_dict['01/2020']['month'][company]:\n",
    "        comp = loaded_dict['01/2020']['month'][company][oneKPI]['KPI MẸ']\n",
    "        if comp == kpi_mom: \n",
    "            listOneKPI.append(oneKPI)\n",
    "    return listOneKPI"
   ]
  },
  {
   "cell_type": "code",
   "execution_count": 9,
   "metadata": {},
   "outputs": [
    {
     "data": {
      "text/plain": [
       "['Tỷ lệ xử lý thành công tại bàn dịch vụ chuyển phát',\n",
       " 'Tỷ lệ xử lý đúng hạn dịch vụ chuyển phát']"
      ]
     },
     "execution_count": 9,
     "metadata": {},
     "output_type": "execute_result"
    }
   ],
   "source": [
    "listingGroupKPI(loaded_dict)"
   ]
  },
  {
   "cell_type": "code",
   "execution_count": 16,
   "metadata": {},
   "outputs": [
    {
     "data": {
      "text/plain": [
       "{'View': 'Quý',\n",
       " 'Time': '01/2021',\n",
       " 'CHỈ TIÊU': 'Tỷ lệ xử lý tại bàn (Kênh FO) - Dịch vụ ViettelPay',\n",
       " 'ĐƠN VỊ': '%',\n",
       " 'ĐIỀU KIỆN': '>=',\n",
       " 'KPI mục tiêu quý': 91.3,\n",
       " 'Quý 1.2021': 80.1,\n",
       " 'Đánh giá': 'Không đạt',\n",
       " 'Q4.2020': 81.7,\n",
       " 'So sánh Q4.2020 Tăng giảm': -1.6,\n",
       " 'Q1.2020': 81.0,\n",
       " 'So sánh Q1.2020 Tăng giảm': -0.9,\n",
       " 'TỔNG CÔNG TY': 'VDS',\n",
       " 'KPI MẸ': 'Tỷ lệ xử lý PA/KN'}"
      ]
     },
     "execution_count": 16,
     "metadata": {},
     "output_type": "execute_result"
    }
   ],
   "source": [
    "loaded_dict['01/2021']['quarter']['VDS']['Tỷ lệ xử lý tại bàn (Kênh FO) - Dịch vụ ViettelPay']"
   ]
  },
  {
   "cell_type": "code",
   "execution_count": 18,
   "metadata": {},
   "outputs": [
    {
     "data": {
      "text/plain": [
       "5832"
      ]
     },
     "execution_count": 18,
     "metadata": {},
     "output_type": "execute_result"
    }
   ],
   "source": [
    "36 * 3 * (len(loaded_dict['01/2020']['month']['VTS']) + len(loaded_dict['01/2020']['month']['VTT']) + len(loaded_dict['01/2020']['month']['VDS']) + len(loaded_dict['01/2020']['month']['VTPOST']))"
   ]
  }
 ],
 "metadata": {
  "kernelspec": {
   "display_name": "Python 3",
   "language": "python",
   "name": "python3"
  },
  "language_info": {
   "codemirror_mode": {
    "name": "ipython",
    "version": 3
   },
   "file_extension": ".py",
   "mimetype": "text/x-python",
   "name": "python",
   "nbconvert_exporter": "python",
   "pygments_lexer": "ipython3",
   "version": "3.11.4"
  },
  "orig_nbformat": 4
 },
 "nbformat": 4,
 "nbformat_minor": 2
}
