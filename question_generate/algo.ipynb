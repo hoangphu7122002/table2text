{
 "cells": [
  {
   "cell_type": "code",
   "execution_count": 10,
   "metadata": {},
   "outputs": [],
   "source": [
    "import question_template\n",
    "import re"
   ]
  },
  {
   "cell_type": "code",
   "execution_count": 11,
   "metadata": {},
   "outputs": [],
   "source": [
    "templateGen = question_template.genQuesOneKPI('month')"
   ]
  },
  {
   "cell_type": "code",
   "execution_count": 12,
   "metadata": {},
   "outputs": [
    {
     "data": {
      "text/plain": [
       "'cho tui biết t<tháng>/<năm> chỉ tiêu <tên chỉ tiêu> này được <tổng công ty> điều hành như thế nào rồi ?'"
      ]
     },
     "execution_count": 12,
     "metadata": {},
     "output_type": "execute_result"
    }
   ],
   "source": [
    "templateGen"
   ]
  },
  {
   "cell_type": "code",
   "execution_count": 13,
   "metadata": {},
   "outputs": [],
   "source": [
    "def find(s, ch):\n",
    "    return [i for i, ltr in enumerate(s) if ltr == ch]"
   ]
  },
  {
   "cell_type": "code",
   "execution_count": 14,
   "metadata": {},
   "outputs": [],
   "source": [
    "lowerDigit = find(templateGen,'<')\n",
    "greaterDigit = find(templateGen,'>')"
   ]
  },
  {
   "cell_type": "code",
   "execution_count": 23,
   "metadata": {},
   "outputs": [
    {
     "name": "stdout",
     "output_type": "stream",
     "text": [
      "[1, 9, 58, 78]\n",
      "[7, 13, 71, 91]\n",
      "[7, 5, 14, 14]\n"
     ]
    }
   ],
   "source": [
    "print(lowerDigit)\n",
    "print(greaterDigit)\n",
    "lenDigit = [g + 1 - l for l,g in zip(lowerDigit,greaterDigit)]\n",
    "print(lenDigit)"
   ]
  },
  {
   "cell_type": "code",
   "execution_count": 26,
   "metadata": {},
   "outputs": [],
   "source": [
    "month = \"1\"\n",
    "year = \"2022\"\n",
    "kpi = \"tỉ lệ phản ánh CSKH\"\n",
    "comp = \"VTS\"\n",
    "quarter = \"\"\n",
    "nextMonth = \"2\"\n",
    "season = \"3\"\n",
    "unit = \"%\"\n",
    "groupKPI = \"\""
   ]
  },
  {
   "cell_type": "code",
   "execution_count": 2,
   "metadata": {},
   "outputs": [],
   "source": [
    "meanDesc = ['mean','trung bình','bình quân','giá trị trung bình','trung bình cộng']\n",
    "minDesc = ['giá trị nhỏ nhất','min','giá trị bé nhất','giá trị tối thiểu','giá trị thấp nhất']\n",
    "maxDesc = ['giá trị lớn nhất','max','giá trị tối đa','giá trị bự nhất','giá trị to nhất']\n",
    "datList = ['đạt','ổn','tốt','hoàn thành','như mong đợi']\n",
    "koDatList = ['chưa đạt','không đạt','không ổn','chưa tốt','không hoàn thành','chưa hoàn thành','chưa ổn','không ổn','không như mong đợi','chưa như mong đợi']\n",
    "allList = ['tất cả','toàn bộ','các','đầy đủ','bao gồm']\n",
    "detailList = [\"chi tiết\",\"sâu hơn\",\"tường tận\",\"cặn kẽ\",\"tỉ mỉ\",\"đầy đủ\",\"tường minh\",\"rõ ràng\"]\n",
    "overallList = [\"khái quát\",\"tổng quan\",\"tổng thể\",\"cơ bản\",\"tổng hợp\",\"tóm tắt\"]\n",
    "nextMonthList = [\"tháng tiếp theo\",\"tháng kế tiếp\",\"tháng sau\",\"tháng <tháng+1>\",\"vào tháng tới\"]\n",
    "seasonList = \"2020 đến\"\n"
   ]
  },
  {
   "cell_type": "code",
   "execution_count": 9,
   "metadata": {},
   "outputs": [],
   "source": [
    "dictList = {\n",
    "    \"<mean>\": meanDesc,\n",
    "    \"<min>\": minDesc,\n",
    "    \"<max>\": maxDesc,\n",
    "    \"<đạt>\": datList,\n",
    "    \"<không đạt>\": koDatList,\n",
    "    \"<tất cả>\": allList,\n",
    "    \"<chi tiết>\": detailList,\n",
    "    \"<tổng quan>\":overallList,\n",
    "    \"<tháng tiếp theo>\":nextMonthList,\n",
    "    \"<mùa>\":seasonList\n",
    "}"
   ]
  },
  {
   "cell_type": "code",
   "execution_count": 39,
   "metadata": {},
   "outputs": [],
   "source": [
    "tag_L = 0\n",
    "\n",
    "ner = {\n",
    "    \n",
    "}\n",
    "\n",
    "for l,g in zip(lowerDigit,lenDigit):\n",
    "    tag = templateGen[l:l+g]\n",
    "    \n",
    "    begin = l+tag_L\n",
    "    if tag == \"<tháng>\": end = len(month)\n",
    "    elif tag == \"<quý>\": end = len(quarter)\n",
    "    elif tag == \"<năm>\": end = len(year)\n",
    "    elif tag == \"<tên chỉ tiêu>\": end = len(kpi)\n",
    "    elif tag == \"<tổng công ty>\" or tag == \"<tên tổng công ty>\": end = len(comp)\n",
    "    elif tag == \"<tên cụm chỉ tiêu>\" or tag == \"<cụm chỉ tiêu>\": end = len(comp)\n",
    "    elif tag == \"<tháng+1>\": end = len(nextMonth)\n",
    "    elif tag == \"<năm-m>\" : end = len(season)\n",
    "    elif tag == \"<đơn vị>\": end = len(unit)\n",
    "    \n",
    "    \n",
    "    tag_L = tag_L + end - len(tag)\n",
    "    ner[tag] = (begin,end)    "
   ]
  },
  {
   "cell_type": "code",
   "execution_count": null,
   "metadata": {},
   "outputs": [],
   "source": [
    "from collections import defaultdict\n",
    "\n",
    "def labelNer(templateGen,data):\n",
    "    def find(s, ch):\n",
    "        return [i for i, ltr in enumerate(s) if ltr == ch]\n",
    "    #handle tag\n",
    "    lowerDigit = find(templateGen,'<')\n",
    "    greaterDigit = find(templateGen,'>')\n",
    "    lenDigit = [g + 1 - l for l,g in zip(lowerDigit,greaterDigit)]\n",
    "    \n",
    "    tag_L = 0\n",
    "    ner = {}\n",
    "    save = \"\"\n",
    "    list_replace = []\n",
    "    \n",
    "    for l,g in zip(lowerDigit,lenDigit):\n",
    "        tag = templateGen[l:l+g]\n",
    "    \n",
    "        begin = l+tag_L\n",
    "        \n",
    "        save = data.get(tag,\"\")\n",
    "        end = len(save)\n",
    "        \n",
    "        tag_L = tag_L + end - len(tag)\n",
    "        ner[tag] = (begin,begin+end,save)   \n",
    "        list_replace.append((tag,save))\n",
    "    \n",
    "    #replace process\n",
    "    for ele in list_replace():\n",
    "        tag,save = ele\n",
    "        templateGen = templateGen.replace(tag,save)\n",
    "        \n",
    "    #find text in templateGen\n",
    "    for key in dictList.keys():\n",
    "        list_ele = dictList[key]\n",
    "        for ele in list_ele:\n",
    "            idx = templateGen.rfind(ele)\n",
    "            if idx != -1:\n",
    "                ner[key] = (idx,idx+len(ele),ele)\n",
    "                break\n",
    "    \n",
    "    return ner"
   ]
  },
  {
   "cell_type": "code",
   "execution_count": 41,
   "metadata": {},
   "outputs": [
    {
     "data": {
      "text/plain": [
       "{'<tháng>': (1, 1),\n",
       " '<năm>': (3, 4),\n",
       " '<tên chỉ tiêu>': (51, 19),\n",
       " '<tổng công ty>': (76, 3)}"
      ]
     },
     "execution_count": 41,
     "metadata": {},
     "output_type": "execute_result"
    }
   ],
   "source": [
    "ner"
   ]
  },
  {
   "cell_type": "code",
   "execution_count": 31,
   "metadata": {},
   "outputs": [],
   "source": [
    "templateNew =    templateGen.replace('<tháng>',month)\\\n",
    "                            .replace('<năm>',year)\\\n",
    "                            .replace('<tên chỉ tiêu>',kpi)\\\n",
    "                            .replace('<tổng công ty>',comp)"
   ]
  },
  {
   "cell_type": "code",
   "execution_count": 32,
   "metadata": {},
   "outputs": [
    {
     "data": {
      "text/plain": [
       "'t1/2022 có thể cho tôi biết tường minh về chỉ tiêu tỉ lệ phản ánh CSKH được VTS điều hành nhé ?'"
      ]
     },
     "execution_count": 32,
     "metadata": {},
     "output_type": "execute_result"
    }
   ],
   "source": [
    "templateNew"
   ]
  },
  {
   "cell_type": "code",
   "execution_count": 36,
   "metadata": {},
   "outputs": [],
   "source": [
    "ner_evaluate = {}\n",
    "ner_evaluate['<tháng>'] = (templateNew.find(month),len(month))\n",
    "ner_evaluate['<năm>'] = (templateNew.find(year),len(year))\n",
    "ner_evaluate['<tên chỉ tiêu>'] = (templateNew.find(kpi),len(kpi))\n",
    "ner_evaluate['<tổng công ty>'] = (templateNew.find(comp),len(comp))"
   ]
  },
  {
   "cell_type": "code",
   "execution_count": 42,
   "metadata": {},
   "outputs": [
    {
     "data": {
      "text/plain": [
       "{'<tháng>': (1, 1),\n",
       " '<năm>': (3, 4),\n",
       " '<tên chỉ tiêu>': (51, 19),\n",
       " '<tổng công ty>': (76, 3)}"
      ]
     },
     "execution_count": 42,
     "metadata": {},
     "output_type": "execute_result"
    }
   ],
   "source": [
    "ner"
   ]
  },
  {
   "cell_type": "code",
   "execution_count": 38,
   "metadata": {},
   "outputs": [
    {
     "data": {
      "text/plain": [
       "{'<tháng>': (1, 1),\n",
       " '<năm>': (3, 4),\n",
       " '<tên chỉ tiêu>': (51, 19),\n",
       " '<tổng công ty>': (76, 3)}"
      ]
     },
     "execution_count": 38,
     "metadata": {},
     "output_type": "execute_result"
    }
   ],
   "source": [
    "ner_evaluate"
   ]
  }
 ],
 "metadata": {
  "kernelspec": {
   "display_name": "Python 3",
   "language": "python",
   "name": "python3"
  },
  "language_info": {
   "codemirror_mode": {
    "name": "ipython",
    "version": 3
   },
   "file_extension": ".py",
   "mimetype": "text/x-python",
   "name": "python",
   "nbconvert_exporter": "python",
   "pygments_lexer": "ipython3",
   "version": "3.11.4"
  },
  "orig_nbformat": 4
 },
 "nbformat": 4,
 "nbformat_minor": 2
}
